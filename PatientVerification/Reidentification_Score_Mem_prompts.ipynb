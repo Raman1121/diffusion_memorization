{
 "cells": [
  {
   "cell_type": "markdown",
   "metadata": {},
   "source": [
    "## Do Images from Memorized Prompts Contain Greater Memorization Risk on Average?"
   ]
  },
  {
   "cell_type": "code",
   "execution_count": 11,
   "metadata": {},
   "outputs": [],
   "source": [
    "import os\n",
    "import csv\n",
    "import argparse\n",
    "import pandas as pd\n",
    "import torch\n",
    "from torch.utils.data import Dataset, DataLoader\n",
    "from torchvision import transforms\n",
    "from PIL import Image\n",
    "from dataset import SiameseNetworkDataset\n",
    "from model import SiameseNetwork\n",
    "\n",
    "from sklearn import metrics\n",
    "import Utils"
   ]
  },
  {
   "cell_type": "code",
   "execution_count": null,
   "metadata": {},
   "outputs": [],
   "source": [
    "model = SiameseNetwork(network=\"ResNet-50\", in_channels=3, n_features=128).to('cuda')\n",
    "\n",
    "# Loading ckpt\n",
    "CKPT_PATH = \"trained_models/best_network.pth\"\n",
    "# CKPT_PATH = \"/raid/s2198939/diffusion_memorization/PatientVerification/checkpoints/ResNet-50_epoch1_data_handling_RPN.pth\"\n",
    "model.load_state_dict(torch.load(CKPT_PATH))\n",
    "model.eval()"
   ]
  },
  {
   "cell_type": "code",
   "execution_count": 6,
   "metadata": {},
   "outputs": [],
   "source": [
    "CSV_DIR = \"/raid/s2198939/MIMIC_Dataset/physionet.org/files/mimic-cxr-jpg/2.0.0/Prepared_CSV2\"\n",
    "IMG_DIR = \"/raid/s2198939/MIMIC_Dataset/physionet.org/files/mimic-cxr-jpg/2.0.0\"\n",
    "train_csv = os.path.join(CSV_DIR, \"FINAL_TRAIN.xlsx\")\n",
    "test_csv = os.path.join(CSV_DIR, \"FINAL_TEST.xlsx\")\n",
    "val_csv = os.path.join(CSV_DIR, \"FINAL_VAL.xlsx\")"
   ]
  },
  {
   "cell_type": "code",
   "execution_count": null,
   "metadata": {},
   "outputs": [
    {
     "data": {
      "text/plain": [
       "(110340, 14065, 13487, 137892)"
      ]
     },
     "execution_count": 7,
     "metadata": {},
     "output_type": "execute_result"
    }
   ],
   "source": [
    "df_train = pd.read_excel(train_csv)\n",
    "df_test = pd.read_excel(test_csv)\n",
    "df_val = pd.read_excel(val_csv)\n",
    "\n",
    "len(df_train), len(df_test), len(df_val), len(df_combined)"
   ]
  },
  {
   "cell_type": "code",
   "execution_count": 13,
   "metadata": {},
   "outputs": [],
   "source": [
    "# Create paths\n",
    "df_train[\"path\"] = df_train[\"path\"].apply(lambda x: os.path.join(IMG_DIR, x))\n",
    "df_test[\"path\"] = df_test[\"path\"].apply(lambda x: os.path.join(IMG_DIR, x))\n",
    "df_val[\"path\"] = df_val[\"path\"].apply(lambda x: os.path.join(IMG_DIR, x))\n",
    "\n",
    "df_combined = pd.concat([df_train, df_test, df_val])"
   ]
  },
  {
   "cell_type": "code",
   "execution_count": 8,
   "metadata": {},
   "outputs": [
    {
     "data": {
      "text/plain": [
       "(474, 141)"
      ]
     },
     "execution_count": 8,
     "metadata": {},
     "output_type": "execute_result"
    }
   ],
   "source": [
    "df_mem_prompts = pd.read_csv(\"/raid/s2198939/diffusion_memorization/det_outputs_radedit/memorized_prompts_with_paths.csv\")\n",
    "df_non_mem_prompts = pd.read_csv(\"/raid/s2198939/diffusion_memorization/det_outputs_radedit/non_memorized_prompts_with_paths.csv\")\n",
    "\n",
    "len(df_mem_prompts), len(df_non_mem_prompts)"
   ]
  },
  {
   "cell_type": "code",
   "execution_count": 4,
   "metadata": {},
   "outputs": [],
   "source": [
    "transform = transforms.Compose([\n",
    "    transforms.Resize((224, 224)),\n",
    "    transforms.ToTensor(),\n",
    "])"
   ]
  },
  {
   "cell_type": "code",
   "execution_count": 9,
   "metadata": {},
   "outputs": [],
   "source": [
    "def get_reidentification_score(model, img1, img2, transforms):\n",
    "    with torch.no_grad():\n",
    "        img1 = transforms(img1).unsqueeze(0).to('cuda')\n",
    "        img2 = transforms(img2).unsqueeze(0).to('cuda')\n",
    "        outputs = model(img1, img2)\n",
    "        score = torch.sigmoid(outputs)\n",
    "\n",
    "    return score.item()"
   ]
  },
  {
   "cell_type": "code",
   "execution_count": 16,
   "metadata": {},
   "outputs": [],
   "source": [
    "# Compare each image in memorized_prompts with all images in df_combined\n",
    "\n",
    "mem_paths = list(df_mem_prompts[\"path\"].values)\n",
    "all_images_paths = list(df_combined[\"path\"].values)\n",
    "\n",
    "reid_scores = []\n",
    "for mem_path in mem_paths:\n",
    "    # img1 = Image.open(os.path.join(IMG_DIR, mem_path))\n",
    "    img1 = Image.open(mem_path).convert('RGB')\n",
    "    for img_path in all_images_paths:\n",
    "        img2 = Image.open(img_path).convert('RGB')\n",
    "        reid_score = get_reidentification_score(model, img1, img2, transform)\n",
    "        reid_scores.append(reid_score)\n",
    "        break\n",
    "    break"
   ]
  },
  {
   "cell_type": "code",
   "execution_count": null,
   "metadata": {},
   "outputs": [],
   "source": []
  }
 ],
 "metadata": {
  "kernelspec": {
   "display_name": "demm",
   "language": "python",
   "name": "python3"
  },
  "language_info": {
   "codemirror_mode": {
    "name": "ipython",
    "version": 3
   },
   "file_extension": ".py",
   "mimetype": "text/x-python",
   "name": "python",
   "nbconvert_exporter": "python",
   "pygments_lexer": "ipython3",
   "version": "3.10.14"
  }
 },
 "nbformat": 4,
 "nbformat_minor": 2
}
